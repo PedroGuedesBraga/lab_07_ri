{
  "nbformat": 4,
  "nbformat_minor": 0,
  "metadata": {
    "colab": {
      "name": "lab_07_ri.ipynb",
      "version": "0.3.2",
      "provenance": [],
      "collapsed_sections": [],
      "toc_visible": true
    },
    "kernelspec": {
      "name": "python3",
      "display_name": "Python 3"
    }
  },
  "cells": [
    {
      "cell_type": "markdown",
      "metadata": {
        "id": "80oO2QCMHsSE",
        "colab_type": "text"
      },
      "source": [
        "# Avaliação de Sistemas de RI - Recuperação da Informação\n",
        "**Aluno: Pedro Guedes Braga**\n"
      ]
    },
    {
      "cell_type": "code",
      "metadata": {
        "id": "cOXsE-Z0H4rV",
        "colab_type": "code",
        "outputId": "24ee0bd8-5df5-4f1f-97d4-4311b5b914b7",
        "colab": {
          "base_uri": "https://localhost:8080/",
          "height": 85
        }
      },
      "source": [
        "#coding: utf-8\n",
        "\n",
        "import pandas as pd\n",
        "import nltk\n",
        "import operator\n",
        "import math\n",
        "import matplotlib.pyplot as pyplot\n",
        "from nltk.tokenize import word_tokenize, sent_tokenize\n",
        "from nltk.stem import *\n",
        "nltk.download('stopwords')\n",
        "nltk.download('punkt') \n",
        "import csv\n",
        "import time\n",
        "import numpy\n",
        "from operator import itemgetter\n",
        "import urllib, json"
      ],
      "execution_count": 49,
      "outputs": [
        {
          "output_type": "stream",
          "text": [
            "[nltk_data] Downloading package stopwords to /root/nltk_data...\n",
            "[nltk_data]   Package stopwords is already up-to-date!\n",
            "[nltk_data] Downloading package punkt to /root/nltk_data...\n",
            "[nltk_data]   Package punkt is already up-to-date!\n"
          ],
          "name": "stdout"
        }
      ]
    },
    {
      "cell_type": "markdown",
      "metadata": {
        "id": "YD97FGlsJN1U",
        "colab_type": "text"
      },
      "source": [
        "\n",
        "\n",
        "\n"
      ]
    },
    {
      "cell_type": "code",
      "metadata": {
        "id": "HK9VKcIE5-BP",
        "colab_type": "code",
        "colab": {}
      },
      "source": [
        "url_csv = \"https://raw.githubusercontent.com/PedroGuedesBraga/lab06_ri/master/results.csv\"\n",
        "df = pd.read_csv(url_csv)\n",
        "df.dropna(inplace=True)  ##Retira campos NA (ex.: NaN, etc)\n",
        "lista_de_noticias = df.text.unique() #Retorna uma lista onde cada elemento é o texto de uma noticia.\n",
        " # http://www.nltk.org/howto/portuguese_en.html - Tutorial StopWords\n",
        " # https://pythonspot.com/tokenizing-words-and-sentences-with-nltk/\n",
        "palavras_a_ignorar = nltk.corpus.stopwords.words('portuguese')\n",
        "palavras_a_ignorar.append('o')\n",
        "palavras_a_ignorar.append('a')\n",
        "palavras_a_ignorar.append('é')\n",
        "palavras_a_ignorar.append('r')\n",
        "  \n",
        "special_chars = [',', '.', '-', '“', \"”\", \")\", \"(\", \":\", \"%\", \"?\", \"$\", \"–\", \"\"]\n",
        "\n",
        "\n",
        "\n",
        "##Auxiliares\n",
        "##Recebe um token(ja em lowercase) e aplica mais estratégias de tokenizacao, descritas pelas duas funcoes auxiliares acima.\n",
        "def apply_tokenize_strategy(token):\n",
        "  return remove_periods((remove_apostrophes(token)))\n",
        "\n",
        "##Metodo auxiliar que remove apostrofos dos tokens, retornando um token em seu formato sem apostrofo\n",
        "def remove_apostrophes(token):\n",
        "  return token.replace(\"’\", \"\").replace(\"'\",\"\")\n",
        "  \n",
        "##Metodo auxiliar que remove pontos em uma abreviacao\n",
        "def remove_periods(token):\n",
        "  return token.replace(\".\", \"\")\n",
        "\n",
        "#Funcao auxiliar, que simplesmente resgata todos os documentos no indice\n",
        "def getAllDocuments(index):\n",
        "  list_of_documents = []\n",
        "  for word in index:\n",
        "    for tupla in index[word]:\n",
        "      if(tupla[0] not in list_of_documents):\n",
        "        list_of_documents.append(tupla[0])\n",
        "        \n",
        "  return list_of_documents\n",
        "\n",
        "\n",
        "\n",
        "\n",
        "\n",
        "\n",
        "\n",
        "##Questao 1\n",
        "##Funcao para construir o índice:\n",
        "def build_index(documents):\n",
        "  index = {}\n",
        "  n = 0\n",
        "  for document in documents:\n",
        "    n = n + 1\n",
        "    tokens = word_tokenize(document)\n",
        "    for token in tokens:\n",
        "      if((apply_tokenize_strategy(token.lower()) not in palavras_a_ignorar) and (apply_tokenize_strategy(token.lower()) not in special_chars) and (\",\" not in token.lower())):  ## Todos os tokens passam a serem tratados em LOWERCASE\n",
        "        if(apply_tokenize_strategy(token.lower()) in index):\n",
        "          index[apply_tokenize_strategy(token.lower())].append((n, tokens.count(token)))\n",
        "        else:\n",
        "          index[apply_tokenize_strategy(token.lower())] = [(n, tokens.count(token))]\n",
        "  refactored_index = aux_refactor_index(index)\n",
        "  return refactored_index\n",
        "\n",
        "\n",
        "#funcao auxiliar responsavel por refatorar as listas invertidas do indice para retorna-la no formato pedido. - Remove duplicatas de documentos\n",
        "def aux_refactor_index(index):\n",
        "  for word in index:\n",
        "    for tupla in index[word]:\n",
        "      index[word] = list(index[word])\n",
        "  return index\n",
        "    \n",
        "  \n",
        "##Constrói o indice##\n",
        "indice = build_index(lista_de_noticias)  \n",
        "\n",
        "\n",
        "\n",
        "\n",
        "\n",
        "\n"
      ],
      "execution_count": 0,
      "outputs": []
    },
    {
      "cell_type": "code",
      "metadata": {
        "id": "VSRvsiFmhY5G",
        "colab_type": "code",
        "colab": {}
      },
      "source": [
        "indice = build_index(lista_de_noticias)\n",
        "##Calcula o idf\n",
        "number_of_documents = len(getAllDocuments(indice))\n",
        "for word in indice:\n",
        "  nk = len(indice[word])\n",
        "  idf = numpy.log(number_of_documents / nk)\n",
        "  indice[word] = list(indice[word]) #Converte set para lista - Só para melhor visualizacao mesmo\n",
        "  indice[word].append(idf)\n",
        "\n",
        "\n",
        "words = [word for word in indice][0:10]\n",
        "doc_freq_list = [indice[word] for word in indice][0:10]\n",
        "idfs = [indice[word][-1] for word in indice][0:10]\n"
      ],
      "execution_count": 0,
      "outputs": []
    },
    {
      "cell_type": "markdown",
      "metadata": {
        "id": "ahs0qE8rti7k",
        "colab_type": "text"
      },
      "source": [
        "# Versões do modelo vetorial"
      ]
    },
    {
      "cell_type": "markdown",
      "metadata": {
        "id": "bssx4NUgVsWC",
        "colab_type": "text"
      },
      "source": [
        "## Representação binária;"
      ]
    },
    {
      "cell_type": "code",
      "metadata": {
        "id": "Qb4i1v-Ct3wX",
        "colab_type": "code",
        "colab": {}
      },
      "source": [
        "def binary(query, document):\n",
        "  result = 0 #Score\n",
        "  query_words = query.split()\n",
        "  document_words = document.split()\n",
        "  \n",
        "  for word in query_words:\n",
        "    result += (word in document_words)\n",
        "  \n",
        "  return result"
      ],
      "execution_count": 0,
      "outputs": []
    },
    {
      "cell_type": "markdown",
      "metadata": {
        "id": "TX3baACwz59B",
        "colab_type": "text"
      },
      "source": [
        "## TF (lembre-se que esse modelo já está implementado);"
      ]
    },
    {
      "cell_type": "code",
      "metadata": {
        "id": "X680UCbzV8iH",
        "colab_type": "code",
        "colab": {}
      },
      "source": [
        "def term_frequency(query, document):\n",
        "  result = 0\n",
        "  query_words = query.split()\n",
        "  document_words = document.split()\n",
        "  \n",
        "  for word in query_words:\n",
        "    result += document_words.count(word)\n",
        "  \n",
        "  return result\n"
      ],
      "execution_count": 0,
      "outputs": []
    },
    {
      "cell_type": "markdown",
      "metadata": {
        "id": "SEqrWnhxkjIG",
        "colab_type": "text"
      },
      "source": [
        "## TF-IDF"
      ]
    },
    {
      "cell_type": "code",
      "metadata": {
        "id": "WB0FH0zj1gh0",
        "colab_type": "code",
        "colab": {}
      },
      "source": [
        "def tf_idf(query, document):\n",
        "  result = 0\n",
        "  document_words = document.split()\n",
        "  query_words = query.split()\n",
        "  \n",
        "  for word in query_words:\n",
        "    cwd = document_words.count(word)\n",
        "    if word in indice:\n",
        "      result += cwd * indice[word][-1]\n",
        "      \n",
        "  return round(result,2) #p nao ficar mt grande"
      ],
      "execution_count": 0,
      "outputs": []
    },
    {
      "cell_type": "markdown",
      "metadata": {
        "id": "oekghWoj3tSe",
        "colab_type": "text"
      },
      "source": [
        "## BM25* (não usaremos Okapi já que os documentos não tem grande variação de tamanho)."
      ]
    },
    {
      "cell_type": "code",
      "metadata": {
        "id": "d7dZc2T1keTO",
        "colab_type": "code",
        "colab": {}
      },
      "source": [
        "def bm25(query, document, k):\n",
        "  result = 0\n",
        "  doc_words = document.split()\n",
        "  query_words = query.split()\n",
        "  \n",
        "  words = [word for word in query_words if word in doc_words]\n",
        "    \n",
        "  for word in words:\n",
        "    cwd = doc_words.count(word)\n",
        "    dfw = 0\n",
        "    if word in indice:\n",
        "      dfw = len(indice[word][:-1])\n",
        "    result += (((k+1) * cwd) / (cwd + k)) * numpy.log10(((number_of_documents+1) / dfw)) if dfw != 0 else 0\n",
        "  \n",
        "  return round(result,2) #p n ficar mt grande no resultado"
      ],
      "execution_count": 0,
      "outputs": []
    },
    {
      "cell_type": "markdown",
      "metadata": {
        "id": "apkhrAvC29pr",
        "colab_type": "text"
      },
      "source": [
        "# Q1 - Escolha um documento dentre aqueles da base do aluno Bernardi e crie uma consulta que você acha que tem boas chances de recuperar este documento. Em seguida, avalie os resultados de tal consulta usando a métrica de avaliação Reciprocal Rank ( 10 pts)"
      ]
    },
    {
      "cell_type": "markdown",
      "metadata": {
        "id": "80UkdzXk9Knz",
        "colab_type": "text"
      },
      "source": [
        "### - Consulta escolhida: 'eurico miranda'\n",
        "### - Documento escolhido: nº 51 na base de dados do aluno Bernardi. - URL: \n",
        "https://brasil.elpais.com/brasil/2019/03/12/deportes/1552406937_786128.html\n",
        "\n",
        "### Logo, o documento nº 51 é o documento considerado relevante. A posição 'r' na fórmula do Reciproval Rank (1/r) corresponde a posicao do documento 51 no ranking obtido pelo algoritmo de recuperacao"
      ]
    },
    {
      "cell_type": "code",
      "metadata": {
        "id": "1nE6coUUBqVr",
        "colab_type": "code",
        "colab": {}
      },
      "source": [
        "#Consulta escolhida:\n",
        "consulta = 'eurico miranda'\n",
        "\n",
        "\n",
        "#Retorna uma lista com os top 10 documentos usando os diferentes modelos de recuperacao da informacao\n",
        "#Retorno: [top_10_bin, top_10,tf, top_10_idf, top_10_bm25]\n",
        "def retrieve_docs(query):\n",
        "  n = 1 #doc number\n",
        "  \n",
        "  ##Listas de tuplas para cada algoritmo: [(score, doc_nmbr)]\n",
        "  binary_docs = [] \n",
        "  tf_docs = []\n",
        "  tf_idf_docs = []\n",
        "  bm25_docs = []\n",
        "  \n",
        "  for doc in lista_de_noticias:\n",
        "    doc = doc.lower()\n",
        "    n = n + 1\n",
        "    binary_docs.append((binary(query, doc),n))\n",
        "    tf_docs.append((term_frequency(query, doc),n))\n",
        "    tf_idf_docs.append((tf_idf(query, doc), n))\n",
        "    bm25_docs.append((bm25(query, doc, 20), n))\n",
        "  \n",
        "  binary_docs.sort(reverse = True)\n",
        "  tf_docs.sort(reverse=True)\n",
        "  tf_idf_docs.sort(reverse=True)\n",
        "  bm25_docs.sort(reverse=True)\n",
        "    \n",
        "  return [binary_docs[0:10], tf_docs[0:10], tf_idf_docs[0:10], bm25_docs[0:10]]\n",
        "\n",
        "#Top 10 documentos para a consulta 'eurico miranda' usando os diferentes algoritmos de recup.\n",
        "top_10_eurico_miranda = retrieve_docs(consulta)"
      ],
      "execution_count": 0,
      "outputs": []
    },
    {
      "cell_type": "markdown",
      "metadata": {
        "id": "Fjjl2JrWL7uE",
        "colab_type": "text"
      },
      "source": [
        "- **Representação binária; 2,5 pontos (Análise usando Reciprocal Rank)**\n",
        "\n",
        "- **Avaliando os resultados:** Usando a métrica Reciprocal Rank, observamos que o valor obtido é: **1** (1/r, sendo r = 1, pois o documento vem na pos.1 do ranking).  (*Ver tabela abaixo*)"
      ]
    },
    {
      "cell_type": "code",
      "metadata": {
        "id": "MgmIjMrcSFWv",
        "colab_type": "code",
        "outputId": "adcaa820-637c-4527-ef2f-ccdac43d7d05",
        "colab": {
          "base_uri": "https://localhost:8080/",
          "height": 359
        }
      },
      "source": [
        "pd.DataFrame({\n",
        "    'Docs recuperados - Repres. Binaria': top_10_eurico_miranda[0]\n",
        "})"
      ],
      "execution_count": 59,
      "outputs": [
        {
          "output_type": "execute_result",
          "data": {
            "text/html": [
              "<div>\n",
              "<style scoped>\n",
              "    .dataframe tbody tr th:only-of-type {\n",
              "        vertical-align: middle;\n",
              "    }\n",
              "\n",
              "    .dataframe tbody tr th {\n",
              "        vertical-align: top;\n",
              "    }\n",
              "\n",
              "    .dataframe thead th {\n",
              "        text-align: right;\n",
              "    }\n",
              "</style>\n",
              "<table border=\"1\" class=\"dataframe\">\n",
              "  <thead>\n",
              "    <tr style=\"text-align: right;\">\n",
              "      <th></th>\n",
              "      <th>Docs recuperados - Repres. Binaria</th>\n",
              "    </tr>\n",
              "  </thead>\n",
              "  <tbody>\n",
              "    <tr>\n",
              "      <th>0</th>\n",
              "      <td>(2, 51)</td>\n",
              "    </tr>\n",
              "    <tr>\n",
              "      <th>1</th>\n",
              "      <td>(1, 122)</td>\n",
              "    </tr>\n",
              "    <tr>\n",
              "      <th>2</th>\n",
              "      <td>(1, 120)</td>\n",
              "    </tr>\n",
              "    <tr>\n",
              "      <th>3</th>\n",
              "      <td>(0, 250)</td>\n",
              "    </tr>\n",
              "    <tr>\n",
              "      <th>4</th>\n",
              "      <td>(0, 249)</td>\n",
              "    </tr>\n",
              "    <tr>\n",
              "      <th>5</th>\n",
              "      <td>(0, 248)</td>\n",
              "    </tr>\n",
              "    <tr>\n",
              "      <th>6</th>\n",
              "      <td>(0, 247)</td>\n",
              "    </tr>\n",
              "    <tr>\n",
              "      <th>7</th>\n",
              "      <td>(0, 246)</td>\n",
              "    </tr>\n",
              "    <tr>\n",
              "      <th>8</th>\n",
              "      <td>(0, 245)</td>\n",
              "    </tr>\n",
              "    <tr>\n",
              "      <th>9</th>\n",
              "      <td>(0, 244)</td>\n",
              "    </tr>\n",
              "  </tbody>\n",
              "</table>\n",
              "</div>"
            ],
            "text/plain": [
              "  Docs recuperados - Repres. Binaria\n",
              "0                            (2, 51)\n",
              "1                           (1, 122)\n",
              "2                           (1, 120)\n",
              "3                           (0, 250)\n",
              "4                           (0, 249)\n",
              "5                           (0, 248)\n",
              "6                           (0, 247)\n",
              "7                           (0, 246)\n",
              "8                           (0, 245)\n",
              "9                           (0, 244)"
            ]
          },
          "metadata": {
            "tags": []
          },
          "execution_count": 59
        }
      ]
    },
    {
      "cell_type": "markdown",
      "metadata": {
        "id": "UOtxuvY2Sa0D",
        "colab_type": "text"
      },
      "source": [
        "- **TF; 2,5 pontos (Análise usando Reciprocal Rank)**\n",
        "\n",
        "- **Avaliando os resultados:** Usando a métrica Reciprocal Rank, observamos que o valor obtido é: **1** (1/r, sendo r = 1, pois o documento vem na pos.1 do ranking).  (*Ver tabela abaixo*)"
      ]
    },
    {
      "cell_type": "code",
      "metadata": {
        "id": "qVJ41NmgTrVO",
        "colab_type": "code",
        "outputId": "fa0ce7e6-3f75-43d7-cb88-e325bce4d819",
        "colab": {
          "base_uri": "https://localhost:8080/",
          "height": 359
        }
      },
      "source": [
        "pd.DataFrame({\n",
        "    'Docs recuperados - Term Frequency': top_10_eurico_miranda[1]\n",
        "})"
      ],
      "execution_count": 60,
      "outputs": [
        {
          "output_type": "execute_result",
          "data": {
            "text/html": [
              "<div>\n",
              "<style scoped>\n",
              "    .dataframe tbody tr th:only-of-type {\n",
              "        vertical-align: middle;\n",
              "    }\n",
              "\n",
              "    .dataframe tbody tr th {\n",
              "        vertical-align: top;\n",
              "    }\n",
              "\n",
              "    .dataframe thead th {\n",
              "        text-align: right;\n",
              "    }\n",
              "</style>\n",
              "<table border=\"1\" class=\"dataframe\">\n",
              "  <thead>\n",
              "    <tr style=\"text-align: right;\">\n",
              "      <th></th>\n",
              "      <th>Docs recuperados - Term Frequency</th>\n",
              "    </tr>\n",
              "  </thead>\n",
              "  <tbody>\n",
              "    <tr>\n",
              "      <th>0</th>\n",
              "      <td>(5, 51)</td>\n",
              "    </tr>\n",
              "    <tr>\n",
              "      <th>1</th>\n",
              "      <td>(3, 120)</td>\n",
              "    </tr>\n",
              "    <tr>\n",
              "      <th>2</th>\n",
              "      <td>(1, 122)</td>\n",
              "    </tr>\n",
              "    <tr>\n",
              "      <th>3</th>\n",
              "      <td>(0, 250)</td>\n",
              "    </tr>\n",
              "    <tr>\n",
              "      <th>4</th>\n",
              "      <td>(0, 249)</td>\n",
              "    </tr>\n",
              "    <tr>\n",
              "      <th>5</th>\n",
              "      <td>(0, 248)</td>\n",
              "    </tr>\n",
              "    <tr>\n",
              "      <th>6</th>\n",
              "      <td>(0, 247)</td>\n",
              "    </tr>\n",
              "    <tr>\n",
              "      <th>7</th>\n",
              "      <td>(0, 246)</td>\n",
              "    </tr>\n",
              "    <tr>\n",
              "      <th>8</th>\n",
              "      <td>(0, 245)</td>\n",
              "    </tr>\n",
              "    <tr>\n",
              "      <th>9</th>\n",
              "      <td>(0, 244)</td>\n",
              "    </tr>\n",
              "  </tbody>\n",
              "</table>\n",
              "</div>"
            ],
            "text/plain": [
              "  Docs recuperados - Term Frequency\n",
              "0                           (5, 51)\n",
              "1                          (3, 120)\n",
              "2                          (1, 122)\n",
              "3                          (0, 250)\n",
              "4                          (0, 249)\n",
              "5                          (0, 248)\n",
              "6                          (0, 247)\n",
              "7                          (0, 246)\n",
              "8                          (0, 245)\n",
              "9                          (0, 244)"
            ]
          },
          "metadata": {
            "tags": []
          },
          "execution_count": 60
        }
      ]
    },
    {
      "cell_type": "markdown",
      "metadata": {
        "id": "5NEZfslAUAlu",
        "colab_type": "text"
      },
      "source": [
        "- **BM25; 2,5 pontos (Análise usando Reciprocal Rank)**\n",
        "\n",
        "- **Avaliando os resultados:** Usando a métrica Reciprocal Rank, observamos que o valor obtido é: **1** (1/r, sendo r = 1, pois o documento vem na pos.1 do ranking).  (*Ver tabela abaixo*)"
      ]
    },
    {
      "cell_type": "code",
      "metadata": {
        "id": "nyOvoi_DUIFy",
        "colab_type": "code",
        "outputId": "071b5dca-3833-4a8a-d408-56f8514cf6bb",
        "colab": {
          "base_uri": "https://localhost:8080/",
          "height": 359
        }
      },
      "source": [
        "pd.DataFrame({\n",
        "    'Docs recuperados - BM25': top_10_eurico_miranda[3]\n",
        "})"
      ],
      "execution_count": 61,
      "outputs": [
        {
          "output_type": "execute_result",
          "data": {
            "text/html": [
              "<div>\n",
              "<style scoped>\n",
              "    .dataframe tbody tr th:only-of-type {\n",
              "        vertical-align: middle;\n",
              "    }\n",
              "\n",
              "    .dataframe tbody tr th {\n",
              "        vertical-align: top;\n",
              "    }\n",
              "\n",
              "    .dataframe thead th {\n",
              "        text-align: right;\n",
              "    }\n",
              "</style>\n",
              "<table border=\"1\" class=\"dataframe\">\n",
              "  <thead>\n",
              "    <tr style=\"text-align: right;\">\n",
              "      <th></th>\n",
              "      <th>Docs recuperados - BM25</th>\n",
              "    </tr>\n",
              "  </thead>\n",
              "  <tbody>\n",
              "    <tr>\n",
              "      <th>0</th>\n",
              "      <td>(7.5, 51)</td>\n",
              "    </tr>\n",
              "    <tr>\n",
              "      <th>1</th>\n",
              "      <td>(4.25, 120)</td>\n",
              "    </tr>\n",
              "    <tr>\n",
              "      <th>2</th>\n",
              "      <td>(1.55, 122)</td>\n",
              "    </tr>\n",
              "    <tr>\n",
              "      <th>3</th>\n",
              "      <td>(0, 250)</td>\n",
              "    </tr>\n",
              "    <tr>\n",
              "      <th>4</th>\n",
              "      <td>(0, 249)</td>\n",
              "    </tr>\n",
              "    <tr>\n",
              "      <th>5</th>\n",
              "      <td>(0, 248)</td>\n",
              "    </tr>\n",
              "    <tr>\n",
              "      <th>6</th>\n",
              "      <td>(0, 247)</td>\n",
              "    </tr>\n",
              "    <tr>\n",
              "      <th>7</th>\n",
              "      <td>(0, 246)</td>\n",
              "    </tr>\n",
              "    <tr>\n",
              "      <th>8</th>\n",
              "      <td>(0, 245)</td>\n",
              "    </tr>\n",
              "    <tr>\n",
              "      <th>9</th>\n",
              "      <td>(0, 244)</td>\n",
              "    </tr>\n",
              "  </tbody>\n",
              "</table>\n",
              "</div>"
            ],
            "text/plain": [
              "  Docs recuperados - BM25\n",
              "0               (7.5, 51)\n",
              "1             (4.25, 120)\n",
              "2             (1.55, 122)\n",
              "3                (0, 250)\n",
              "4                (0, 249)\n",
              "5                (0, 248)\n",
              "6                (0, 247)\n",
              "7                (0, 246)\n",
              "8                (0, 245)\n",
              "9                (0, 244)"
            ]
          },
          "metadata": {
            "tags": []
          },
          "execution_count": 61
        }
      ]
    },
    {
      "cell_type": "markdown",
      "metadata": {
        "id": "bYi3jMiXUQ7i",
        "colab_type": "text"
      },
      "source": [
        "- **TF-IDF. 2,5 pontos (Análise usando Reciprocal Rank)**\n",
        "\n",
        "- **Avaliando os resultados:** Usando a métrica Reciprocal Rank, observamos que o valor obtido é: **1** (1/r, sendo r = 1, pois o documento vem na pos.1 do ranking).  (*Ver tabela abaixo*)"
      ]
    },
    {
      "cell_type": "code",
      "metadata": {
        "id": "J14_d2ACUVTC",
        "colab_type": "code",
        "outputId": "c05a08b3-d547-4e12-f08d-306385b8a0b5",
        "colab": {
          "base_uri": "https://localhost:8080/",
          "height": 359
        }
      },
      "source": [
        "pd.DataFrame({\n",
        "    'Docs recuperados - TF_IDF': top_10_eurico_miranda[2]\n",
        "})"
      ],
      "execution_count": 62,
      "outputs": [
        {
          "output_type": "execute_result",
          "data": {
            "text/html": [
              "<div>\n",
              "<style scoped>\n",
              "    .dataframe tbody tr th:only-of-type {\n",
              "        vertical-align: middle;\n",
              "    }\n",
              "\n",
              "    .dataframe tbody tr th {\n",
              "        vertical-align: top;\n",
              "    }\n",
              "\n",
              "    .dataframe thead th {\n",
              "        text-align: right;\n",
              "    }\n",
              "</style>\n",
              "<table border=\"1\" class=\"dataframe\">\n",
              "  <thead>\n",
              "    <tr style=\"text-align: right;\">\n",
              "      <th></th>\n",
              "      <th>Docs recuperados - TF_IDF</th>\n",
              "    </tr>\n",
              "  </thead>\n",
              "  <tbody>\n",
              "    <tr>\n",
              "      <th>0</th>\n",
              "      <td>(19.2, 51)</td>\n",
              "    </tr>\n",
              "    <tr>\n",
              "      <th>1</th>\n",
              "      <td>(10.71, 120)</td>\n",
              "    </tr>\n",
              "    <tr>\n",
              "      <th>2</th>\n",
              "      <td>(3.57, 122)</td>\n",
              "    </tr>\n",
              "    <tr>\n",
              "      <th>3</th>\n",
              "      <td>(0.0, 250)</td>\n",
              "    </tr>\n",
              "    <tr>\n",
              "      <th>4</th>\n",
              "      <td>(0.0, 249)</td>\n",
              "    </tr>\n",
              "    <tr>\n",
              "      <th>5</th>\n",
              "      <td>(0.0, 248)</td>\n",
              "    </tr>\n",
              "    <tr>\n",
              "      <th>6</th>\n",
              "      <td>(0.0, 247)</td>\n",
              "    </tr>\n",
              "    <tr>\n",
              "      <th>7</th>\n",
              "      <td>(0.0, 246)</td>\n",
              "    </tr>\n",
              "    <tr>\n",
              "      <th>8</th>\n",
              "      <td>(0.0, 245)</td>\n",
              "    </tr>\n",
              "    <tr>\n",
              "      <th>9</th>\n",
              "      <td>(0.0, 244)</td>\n",
              "    </tr>\n",
              "  </tbody>\n",
              "</table>\n",
              "</div>"
            ],
            "text/plain": [
              "  Docs recuperados - TF_IDF\n",
              "0                (19.2, 51)\n",
              "1              (10.71, 120)\n",
              "2               (3.57, 122)\n",
              "3                (0.0, 250)\n",
              "4                (0.0, 249)\n",
              "5                (0.0, 248)\n",
              "6                (0.0, 247)\n",
              "7                (0.0, 246)\n",
              "8                (0.0, 245)\n",
              "9                (0.0, 244)"
            ]
          },
          "metadata": {
            "tags": []
          },
          "execution_count": 62
        }
      ]
    },
    {
      "cell_type": "markdown",
      "metadata": {
        "id": "YJA-bKKKCrIN",
        "colab_type": "text"
      },
      "source": [
        "# Q2: A partir do gabarito fornecido em OBS1, calcule o MAP para cada algoritmo abaixo e aponte qual obteve o melhor resultado. Para os cálculos do MAP, considere que um documento é relevante para uma dada consulta se este documento estiver entre os documentos do gabarito para essa consulta, senão ele deve ser considerado irrelevante. (10 pts)"
      ]
    },
    {
      "cell_type": "code",
      "metadata": {
        "id": "JhbPZ4nsFlAP",
        "colab_type": "code",
        "colab": {
          "base_uri": "https://localhost:8080/",
          "height": 80
        },
        "outputId": "1f8def52-7934-4237-c019-3951e2a393f4"
      },
      "source": [
        "with urllib.request.urlopen(\"https://raw.githubusercontent.com/PedroGuedesBraga/lab_07_ri/master/results_final.json\") as url:\n",
        "  gabarito = json.loads(url.read().decode())\n",
        "\n",
        "\n",
        "#Auxiliar\n",
        "# Pega a URL do documento dado o numero do documento\n",
        "def get_doc_url(doc_number):\n",
        "  return df.loc[doc_number - 2].url\n",
        "\n",
        "# Auxiliar que recebe uma consulta e um numero de documento e retorna True se esse documento é relevante para essa consulta\n",
        "# ou retorna False caso o documento não seja relevante para essa consulta.\n",
        "# (Baseia-se no gabarito para dizer se o doc é relevante ou nao).\n",
        "def isRelevant(doc_number, query):\n",
        "  isRelevant = False\n",
        "  doc_url = get_doc_url(doc_number)\n",
        "  #Primeiro pega o indice na query para poder acessar os documentos relevantes associados a essa query\n",
        "  if(query in gabarito['query']):\n",
        "    indice_docs_rel = gabarito['query'].index(query)\n",
        "    docs_relev = gabarito['docs'][indice_docs_rel]\n",
        "    for document in docs_relev:\n",
        "      if (document['URL'] == doc_url): \n",
        "        isRelevant = True\n",
        "  return isRelevant\n",
        "\n",
        "\n",
        "#Auxiliar: Recebe uma query e um top 10 de documentos recuperados e calcula a Average Precision - AP\n",
        "def calculate_average_precision_aux(query, top10_docs):\n",
        "  k = 0\n",
        "  positive_docs_number = 0\n",
        "  true_posit_pred_posit_list = []\n",
        "  for doc in top10_docs:\n",
        "    k = k + 1\n",
        "    if(isRelevant(doc[1], query)):\n",
        "      positive_docs_number = positive_docs_number + 1\n",
        "      true_posit_pred_posit_list.append(positive_docs_number/k)\n",
        "  if(positive_docs_number == 0):\n",
        "    return 0\n",
        "  else: \n",
        "    return (1/positive_docs_number) * (sum(true_posit_pred_posit_list))\n",
        "\n",
        "\n",
        "# Auxiliar: Recebe uma query e um top 10 de documentos recuperados e calcula a Average Precision - AP \n",
        "# Só que nesse, ele calcula a Average Precision - AP para cada algoritmo\n",
        "def calculate_average_precision(query):\n",
        "  top_10_docs_each_algorithm = retrieve_docs(query) #Retorna os top 10 documentos para uma consulta em cada algoritmo\n",
        "  \n",
        "  top_10_bin = top_10_docs_each_algorithm[0]\n",
        "  top_10_tf = top_10_docs_each_algorithm[1]\n",
        "  top_10_bm25 = top_10_docs_each_algorithm[3]\n",
        "  top_10_tf_idf = top_10_docs_each_algorithm[2]\n",
        "  return (calculate_average_precision_aux(query, top_10_bin), calculate_average_precision_aux(query, top_10_tf), calculate_average_precision_aux(query, top_10_bm25), calculate_average_precision_aux(query, top_10_tf_idf))\n",
        "\n",
        "# Calculando o mAP \n",
        "def calculate_mean_average_precision(queries):\n",
        "  averages_precisions = [] #Lista com as AP's para cada algortimo com base em cada query - [(bin, tf, bm25, tf_idf)]\n",
        "  means = [] #Lista com 4 valores correspondentes aos mAPs de cada algortimo\n",
        "  for query in queries:\n",
        "    averages_precisions.append(calculate_average_precision(query))\n",
        "  sum_aps_bin = 0\n",
        "  sum_aps_tf = 0\n",
        "  sum_aps_bm25 = 0\n",
        "  sum_aps_tf_idf = 0\n",
        "  \n",
        "  for aps in averages_precisions:\n",
        "    sum_aps_bin = sum_aps_bin + aps[0]\n",
        "    sum_aps_tf = sum_aps_tf + aps[1]\n",
        "    sum_aps_bm25 = sum_aps_bm25 + aps[2]\n",
        "    sum_aps_tf_idf = sum_aps_tf_idf + aps[3]\n",
        "  \n",
        "  return [[sum_aps_bin / 10], [sum_aps_tf / 10], [sum_aps_bm25 / 10], [sum_aps_tf_idf / 10]]\n",
        "\n",
        "maps = calculate_mean_average_precision(gabarito['query'])\n",
        "\n",
        "#Exibindo os resultados dos mAPs para cada algoritmo\n",
        "pd.DataFrame({\n",
        "    'MAP - Binary': maps[0],\n",
        "    '/ MAP - TF': maps[1],\n",
        "    '/ MAP - BM25': maps[2],\n",
        "    '/ MAP - TF-IDF': maps[3]\n",
        "})\n",
        "\n",
        "\n",
        "\n",
        "    \n",
        "    \n",
        "   \n",
        "  \n",
        "  \n",
        "    \n",
        "  \n",
        "  "
      ],
      "execution_count": 63,
      "outputs": [
        {
          "output_type": "execute_result",
          "data": {
            "text/html": [
              "<div>\n",
              "<style scoped>\n",
              "    .dataframe tbody tr th:only-of-type {\n",
              "        vertical-align: middle;\n",
              "    }\n",
              "\n",
              "    .dataframe tbody tr th {\n",
              "        vertical-align: top;\n",
              "    }\n",
              "\n",
              "    .dataframe thead th {\n",
              "        text-align: right;\n",
              "    }\n",
              "</style>\n",
              "<table border=\"1\" class=\"dataframe\">\n",
              "  <thead>\n",
              "    <tr style=\"text-align: right;\">\n",
              "      <th></th>\n",
              "      <th>MAP - Binary</th>\n",
              "      <th>/ MAP - TF</th>\n",
              "      <th>/ MAP - BM25</th>\n",
              "      <th>/ MAP - TF-IDF</th>\n",
              "    </tr>\n",
              "  </thead>\n",
              "  <tbody>\n",
              "    <tr>\n",
              "      <th>0</th>\n",
              "      <td>0.291071</td>\n",
              "      <td>0.074286</td>\n",
              "      <td>0.340873</td>\n",
              "      <td>0.331647</td>\n",
              "    </tr>\n",
              "  </tbody>\n",
              "</table>\n",
              "</div>"
            ],
            "text/plain": [
              "   MAP - Binary  / MAP - TF  / MAP - BM25  / MAP - TF-IDF\n",
              "0      0.291071    0.074286      0.340873        0.331647"
            ]
          },
          "metadata": {
            "tags": []
          },
          "execution_count": 63
        }
      ]
    },
    {
      "cell_type": "markdown",
      "metadata": {
        "id": "zmMkrPa8mix_",
        "colab_type": "text"
      },
      "source": [
        "### Observando a tabela anterior, o algoritmo que teve melhor resultado para o MAP foi o BM25"
      ]
    }
  ]
}